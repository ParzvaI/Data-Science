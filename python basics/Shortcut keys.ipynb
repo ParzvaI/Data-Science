{
 "cells": [
  {
   "cell_type": "markdown",
   "id": "8cb7d9e7",
   "metadata": {},
   "source": [
    "# Shortcut"
   ]
  },
  {
   "cell_type": "markdown",
   "id": "d946de1e",
   "metadata": {},
   "source": [
    "### Shift  Enter ->   run cell and below\n",
    "### Ctrl Enter ->\trun cell in-place\n",
    "### Alt Enter ->\trun cell, insert below\n",
    "### X   ->\tcut cell\n",
    "### C   ->\tcopy cell\n",
    "### V   ->\tpaste cell\n",
    "### Z    ->\tundo last cell deletion\n",
    "### Ctrl S   ->\tsave notebook\n",
    "###  J\t -> move cell down\n",
    "###  K\t-> move cell up\n",
    "### Markup -> m\n",
    "### Delete -> d d \n",
    "### Insert Below -> b\n",
    "### Insert Above -> a"
   ]
  }
 ],
 "metadata": {
  "kernelspec": {
   "display_name": "Python 3",
   "language": "python",
   "name": "python3"
  },
  "language_info": {
   "codemirror_mode": {
    "name": "ipython",
    "version": 3
   },
   "file_extension": ".py",
   "mimetype": "text/x-python",
   "name": "python",
   "nbconvert_exporter": "python",
   "pygments_lexer": "ipython3",
   "version": "3.8.5"
  }
 },
 "nbformat": 4,
 "nbformat_minor": 5
}
