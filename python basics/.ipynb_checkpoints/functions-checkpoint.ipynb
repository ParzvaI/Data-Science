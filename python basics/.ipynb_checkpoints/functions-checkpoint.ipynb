{
 "cells": [
  {
   "cell_type": "markdown",
   "id": "64d90e53",
   "metadata": {},
   "source": [
    "# A function is a block of reusable code that runs when called"
   ]
  },
  {
   "cell_type": "code",
   "execution_count": 2,
   "id": "7af3c9a8",
   "metadata": {},
   "outputs": [
    {
     "name": "stdout",
     "output_type": "stream",
     "text": [
      "acc =  ('cpu', 'gpu', 'ram')\n"
     ]
    }
   ],
   "source": [
    "acc=(\"cpu\",\"gpu\",\"ram\")\n",
    "print(\"acc = \",acc)"
   ]
  },
  {
   "cell_type": "code",
   "execution_count": 3,
   "id": "4070f638",
   "metadata": {},
   "outputs": [
    {
     "name": "stdout",
     "output_type": "stream",
     "text": [
      "7.8\n"
     ]
    }
   ],
   "source": [
    "print(7.8)"
   ]
  },
  {
   "cell_type": "code",
   "execution_count": 8,
   "id": "e466f541",
   "metadata": {},
   "outputs": [
    {
     "name": "stdout",
     "output_type": "stream",
     "text": [
      "I am curious to learn Data Science\n"
     ]
    }
   ],
   "source": [
    "print(\"I am curious to learn Data Science\",sep=\",\")"
   ]
  },
  {
   "cell_type": "code",
   "execution_count": 10,
   "id": "058dff8e",
   "metadata": {},
   "outputs": [
    {
     "name": "stdout",
     "output_type": "stream",
     "text": [
      "I am curious*to learn Data Science\n"
     ]
    }
   ],
   "source": [
    "print(\"I am curious\", \"to learn Data Science\",sep=\"*\")"
   ]
  },
  {
   "cell_type": "code",
   "execution_count": 18,
   "id": "a24f5b6a",
   "metadata": {},
   "outputs": [
    {
     "name": "stdout",
     "output_type": "stream",
     "text": [
      "I am curious to learn Data Science\n",
      "I am curious to \t learn Data Science\n"
     ]
    }
   ],
   "source": [
    "print(\"I am curious to learn Data Science\")\n",
    "print(\"I am curious to \\t learn Data Science\")"
   ]
  },
  {
   "cell_type": "code",
   "execution_count": 20,
   "id": "644d91b3",
   "metadata": {},
   "outputs": [
    {
     "name": "stdout",
     "output_type": "stream",
     "text": [
      "I am curious to learn Data Science\n",
      "I am curious to \n",
      " learn Data Science\n"
     ]
    }
   ],
   "source": [
    "print(\"I am curious to learn Data Science\")\n",
    "print(\"I am curious to \\n learn Data Science\")"
   ]
  },
  {
   "cell_type": "code",
   "execution_count": 24,
   "id": "2657945d",
   "metadata": {},
   "outputs": [
    {
     "ename": "SyntaxError",
     "evalue": "invalid syntax (<ipython-input-24-ab40f8a64eab>, line 1)",
     "output_type": "error",
     "traceback": [
      "\u001b[1;36m  File \u001b[1;32m\"<ipython-input-24-ab40f8a64eab>\"\u001b[1;36m, line \u001b[1;32m1\u001b[0m\n\u001b[1;33m    print(\"Hi this is aakash\"s car\")\u001b[0m\n\u001b[1;37m                             ^\u001b[0m\n\u001b[1;31mSyntaxError\u001b[0m\u001b[1;31m:\u001b[0m invalid syntax\n"
     ]
    }
   ],
   "source": [
    "print(\"Hi this is aakash\"s car\")"
   ]
  },
  {
   "cell_type": "code",
   "execution_count": 22,
   "id": "6228509e",
   "metadata": {
    "scrolled": true
   },
   "outputs": [
    {
     "name": "stdout",
     "output_type": "stream",
     "text": [
      "\"Hi this is aakash's car\" \n"
     ]
    }
   ],
   "source": [
    "print(\"\\\"Hi this is aakash\\\"s car\\\"\")"
   ]
  },
  {
   "cell_type": "code",
   "execution_count": 27,
   "id": "fd2dc6d1",
   "metadata": {},
   "outputs": [
    {
     "name": "stdout",
     "output_type": "stream",
     "text": [
      "Abc def \n"
     ]
    }
   ],
   "source": [
    "print(\"Abc \"+\"def \")"
   ]
  },
  {
   "cell_type": "code",
   "execution_count": 29,
   "id": "1231ba2c",
   "metadata": {},
   "outputs": [
    {
     "ename": "TypeError",
     "evalue": "can only concatenate str (not \"int\") to str",
     "output_type": "error",
     "traceback": [
      "\u001b[1;31m---------------------------------------------------------------------------\u001b[0m",
      "\u001b[1;31mTypeError\u001b[0m                                 Traceback (most recent call last)",
      "\u001b[1;32m<ipython-input-29-d5753d9191e3>\u001b[0m in \u001b[0;36m<module>\u001b[1;34m\u001b[0m\n\u001b[1;32m----> 1\u001b[1;33m \u001b[0mprint\u001b[0m\u001b[1;33m(\u001b[0m\u001b[1;34m\"Abc \"\u001b[0m\u001b[1;33m+\u001b[0m\u001b[1;36m3\u001b[0m\u001b[1;33m)\u001b[0m\u001b[1;33m\u001b[0m\u001b[1;33m\u001b[0m\u001b[0m\n\u001b[0m",
      "\u001b[1;31mTypeError\u001b[0m: can only concatenate str (not \"int\") to str"
     ]
    }
   ],
   "source": [
    "print(\"Abc \"+3)"
   ]
  },
  {
   "cell_type": "code",
   "execution_count": 31,
   "id": "f576c9d1",
   "metadata": {},
   "outputs": [
    {
     "name": "stdout",
     "output_type": "stream",
     "text": [
      "Abc 3\n"
     ]
    }
   ],
   "source": [
    "print(\"Abc \"+str(3))"
   ]
  }
 ],
 "metadata": {
  "kernelspec": {
   "display_name": "Python 3",
   "language": "python",
   "name": "python3"
  },
  "language_info": {
   "codemirror_mode": {
    "name": "ipython",
    "version": 3
   },
   "file_extension": ".py",
   "mimetype": "text/x-python",
   "name": "python",
   "nbconvert_exporter": "python",
   "pygments_lexer": "ipython3",
   "version": "3.8.5"
  }
 },
 "nbformat": 4,
 "nbformat_minor": 5
}
