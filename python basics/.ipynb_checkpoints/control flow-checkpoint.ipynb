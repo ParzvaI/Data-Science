{
 "cells": [
  {
   "cell_type": "markdown",
   "id": "633a0420",
   "metadata": {},
   "source": [
    "# Decison Statements"
   ]
  },
  {
   "cell_type": "code",
   "execution_count": 25,
   "id": "105aa929",
   "metadata": {},
   "outputs": [
    {
     "name": "stdout",
     "output_type": "stream",
     "text": [
      "Outside of if\n"
     ]
    }
   ],
   "source": [
    "# if\n",
    "x = 4\n",
    "if x==5:\n",
    "  print(\"Inside of if: x is 5\")\n",
    "print(\"Outside of if\")"
   ]
  },
  {
   "cell_type": "code",
   "execution_count": 26,
   "id": "3c043fcb",
   "metadata": {},
   "outputs": [
    {
     "name": "stdout",
     "output_type": "stream",
     "text": [
      "Inside of if: Eligible to vote\n",
      "Outside of if-else\n"
     ]
    }
   ],
   "source": [
    "# if-else\n",
    "x = 50\n",
    "if x>=18:\n",
    "  print(\"Inside of if: Eligible to vote\")\n",
    "else:\n",
    "  print(\"Inside of else: Not Eligible to vote\")\n",
    "print(\"Outside of if-else\")"
   ]
  },
  {
   "cell_type": "code",
   "execution_count": 27,
   "id": "ba6e5a69",
   "metadata": {},
   "outputs": [
    {
     "name": "stdout",
     "output_type": "stream",
     "text": [
      "Inside of elif: -ve\n"
     ]
    }
   ],
   "source": [
    "# if-elif-else\n",
    "x = -4\n",
    "if x>0:\n",
    "  print(\"Inside of if: +ve\")\n",
    "elif x<0:\n",
    "  print(\"Inside of elif: -ve\")\n",
    "else:\n",
    "  print(\"Inside of else: Zero\")"
   ]
  },
  {
   "cell_type": "code",
   "execution_count": 28,
   "id": "6e4d6bb5",
   "metadata": {},
   "outputs": [
    {
     "name": "stdout",
     "output_type": "stream",
     "text": [
      "Inside of else: -ve\n",
      "Outside of nested if\n"
     ]
    }
   ],
   "source": [
    "# nested if\n",
    "x=-5\n",
    "if x >= 0:\n",
    "    if x == 0:\n",
    "        print(\"Inside of if under if :Zero\")\n",
    "    else:\n",
    "        print(\"Inside of else under if: +ve\")\n",
    "else:\n",
    "    print(\"Inside of else: -ve\")\n",
    "print(\"Outside of nested if\")"
   ]
  },
  {
   "cell_type": "markdown",
   "id": "ed3c4c77",
   "metadata": {},
   "source": [
    "# looping"
   ]
  },
  {
   "cell_type": "code",
   "execution_count": null,
   "id": "c9fb4e4b",
   "metadata": {},
   "outputs": [],
   "source": [
    "s=input()"
   ]
  },
  {
   "cell_type": "code",
   "execution_count": null,
   "id": "602b79f4",
   "metadata": {},
   "outputs": [],
   "source": [
    "# for loop with range\n",
    "for i in range(len(s)):\n",
    "  if s[i]=='e':\n",
    "    print(\"Found\")"
   ]
  },
  {
   "cell_type": "code",
   "execution_count": null,
   "id": "dcc09364",
   "metadata": {},
   "outputs": [],
   "source": [
    "# for loop with in\n",
    "for i in s:\n",
    "  if i=='e':\n",
    "    print(\"Found\")"
   ]
  },
  {
   "cell_type": "code",
   "execution_count": null,
   "id": "a87df7cd",
   "metadata": {},
   "outputs": [],
   "source": [
    "# while loop\n",
    "i=0\n",
    "while(i<len(s)):\n",
    "  if s[i]=='e':\n",
    "    print(\"Found\")\n",
    "  i+=1"
   ]
  },
  {
   "cell_type": "code",
   "execution_count": 28,
   "id": "00efe84b",
   "metadata": {},
   "outputs": [
    {
     "name": "stdout",
     "output_type": "stream",
     "text": [
      "10\n",
      "55\n"
     ]
    }
   ],
   "source": [
    "# sum using while\n",
    "i=1\n",
    "s=0\n",
    "num=int(input())\n",
    "while(i<=num):\n",
    "    s+=i\n",
    "    i+=1\n",
    "print(s)"
   ]
  },
  {
   "cell_type": "code",
   "execution_count": null,
   "id": "ad97af8b",
   "metadata": {},
   "outputs": [],
   "source": [
    "# range\n",
    "for i in range(1,10):\n",
    "  if i==5:\n",
    "    continue\n",
    "  print(i)\n",
    "for i in range(9,0,-1):\n",
    "  print(i)"
   ]
  },
  {
   "cell_type": "code",
   "execution_count": 30,
   "id": "8c4b3bb7",
   "metadata": {},
   "outputs": [
    {
     "name": "stdout",
     "output_type": "stream",
     "text": [
      "6\n",
      "* \n",
      "* * \n",
      "* * * \n",
      "* * * * \n",
      "* * * * * \n",
      "* * * * * * \n"
     ]
    }
   ],
   "source": [
    "# left half triangle\n",
    "n=int(input())\n",
    "for i in range(n):\n",
    "    for j in range(n):\n",
    "        if i>=j:\n",
    "            print(\"*\",end=\" \")\n",
    "    print()\n",
    "    "
   ]
  },
  {
   "cell_type": "code",
   "execution_count": 15,
   "id": "1c9627dc",
   "metadata": {},
   "outputs": [
    {
     "name": "stdout",
     "output_type": "stream",
     "text": [
      "5\n",
      "     *    \n",
      "    * *   \n",
      "   * * *  \n",
      "  * * * * \n",
      " * * * * *\n"
     ]
    }
   ],
   "source": [
    "# equilateral triangle\n",
    "c=0\n",
    "n=int(input())\n",
    "for i in range(n):\n",
    "    for j in range(2*n):\n",
    "        if c==1:\n",
    "            print(\" \",end=\"\")\n",
    "            c=0\n",
    "            continue\n",
    "        if j<n-i:\n",
    "            print(\" \",end=\"\")\n",
    "        elif j>n+i:\n",
    "            print(\" \",end=\"\")\n",
    "        else:\n",
    "            print(\"*\",end=\"\")\n",
    "            c=1\n",
    "    print()"
   ]
  },
  {
   "cell_type": "code",
   "execution_count": 22,
   "id": "a1f10dc3",
   "metadata": {},
   "outputs": [
    {
     "name": "stdout",
     "output_type": "stream",
     "text": [
      "5\n",
      ".....#.....\n",
      "....#-#....\n",
      "...#-#-#...\n",
      "..#-#-#-#..\n",
      ".#-#-#-#-#.\n"
     ]
    }
   ],
   "source": [
    "# pattern printing\n",
    "c=0\n",
    "n=int(input())\n",
    "for i in range(n):\n",
    "    for j in range(2*n+1):\n",
    "        if c==1:\n",
    "            if j>n+i:\n",
    "                print(\".\",end=\"\")\n",
    "                c=0\n",
    "                continue\n",
    "            print(\"-\",end=\"\")\n",
    "            c=0\n",
    "            continue\n",
    "        if j<n-i:\n",
    "            print(\".\",end=\"\")\n",
    "        elif j>n+i:\n",
    "            print(\".\",end=\"\")\n",
    "        else:\n",
    "            print(\"#\",end=\"\")\n",
    "            c=1\n",
    "    print()"
   ]
  }
 ],
 "metadata": {
  "kernelspec": {
   "display_name": "Python 3",
   "language": "python",
   "name": "python3"
  },
  "language_info": {
   "codemirror_mode": {
    "name": "ipython",
    "version": 3
   },
   "file_extension": ".py",
   "mimetype": "text/x-python",
   "name": "python",
   "nbconvert_exporter": "python",
   "pygments_lexer": "ipython3",
   "version": "3.8.5"
  }
 },
 "nbformat": 4,
 "nbformat_minor": 5
}
