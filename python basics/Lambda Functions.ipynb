{
 "cells": [
  {
   "cell_type": "code",
   "execution_count": 1,
   "id": "66fb2642",
   "metadata": {},
   "outputs": [
    {
     "data": {
      "text/plain": [
       "12"
      ]
     },
     "execution_count": 1,
     "metadata": {},
     "output_type": "execute_result"
    }
   ],
   "source": [
    "#finding greater using user defined function\n",
    "def big(a,b):\n",
    "    return a if a>b else b\n",
    "big(10,12)"
   ]
  },
  {
   "cell_type": "code",
   "execution_count": 2,
   "id": "c5edf9d4",
   "metadata": {},
   "outputs": [
    {
     "data": {
      "text/plain": [
       "12"
      ]
     },
     "execution_count": 2,
     "metadata": {},
     "output_type": "execute_result"
    }
   ],
   "source": [
    "# find greater using lambda function\n",
    "big=lambda x,y:x if x>y else y\n",
    "big(10,12)"
   ]
  },
  {
   "cell_type": "code",
   "execution_count": 5,
   "id": "1329e155",
   "metadata": {},
   "outputs": [
    {
     "name": "stdout",
     "output_type": "stream",
     "text": [
      "1\n",
      "4\n",
      "9\n",
      "16\n",
      "25\n"
     ]
    }
   ],
   "source": [
    "# lambda using map()\n",
    "l=[1,2,3,4,5]\n",
    "sq= map(lambda x : x**2,l)\n",
    "for i in sq:\n",
    "    print(i)"
   ]
  },
  {
   "cell_type": "code",
   "execution_count": 10,
   "id": "25830419",
   "metadata": {},
   "outputs": [
    {
     "name": "stdout",
     "output_type": "stream",
     "text": [
      "2\n",
      "4\n"
     ]
    }
   ],
   "source": [
    "# lambda using filter()\n",
    "l=[1,2,3,4,5]\n",
    "sq= list(filter(lambda x : x%2==0,l))\n",
    "for i in sq:\n",
    "    print(i)"
   ]
  },
  {
   "cell_type": "code",
   "execution_count": 12,
   "id": "57216c52",
   "metadata": {},
   "outputs": [
    {
     "data": {
      "text/plain": [
       "15"
      ]
     },
     "execution_count": 12,
     "metadata": {},
     "output_type": "execute_result"
    }
   ],
   "source": [
    "# lambda using reduce()\n",
    "from functools import reduce\n",
    "l=[1,2,3,4,5]\n",
    "sq= reduce(lambda x,y : x+y,l)\n",
    "sq"
   ]
  },
  {
   "cell_type": "code",
   "execution_count": null,
   "id": "abeee384",
   "metadata": {},
   "outputs": [],
   "source": []
  }
 ],
 "metadata": {
  "kernelspec": {
   "display_name": "Python 3",
   "language": "python",
   "name": "python3"
  },
  "language_info": {
   "codemirror_mode": {
    "name": "ipython",
    "version": 3
   },
   "file_extension": ".py",
   "mimetype": "text/x-python",
   "name": "python",
   "nbconvert_exporter": "python",
   "pygments_lexer": "ipython3",
   "version": "3.8.5"
  }
 },
 "nbformat": 4,
 "nbformat_minor": 5
}
