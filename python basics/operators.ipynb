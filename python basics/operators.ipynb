{
 "cells": [
  {
   "cell_type": "markdown",
   "id": "8af4a8f6",
   "metadata": {},
   "source": [
    "# operators"
   ]
  },
  {
   "cell_type": "markdown",
   "id": "4f84e034",
   "metadata": {},
   "source": [
    "#### arithmetic"
   ]
  },
  {
   "cell_type": "code",
   "execution_count": 2,
   "id": "df4ab381",
   "metadata": {
    "scrolled": true
   },
   "outputs": [
    {
     "name": "stdout",
     "output_type": "stream",
     "text": [
      "105\n"
     ]
    }
   ],
   "source": [
    "a=100\n",
    "b=5\n",
    "print(a+b)"
   ]
  },
  {
   "cell_type": "code",
   "execution_count": 3,
   "id": "d05359e7",
   "metadata": {},
   "outputs": [
    {
     "name": "stdout",
     "output_type": "stream",
     "text": [
      "95\n"
     ]
    }
   ],
   "source": [
    "a=100\n",
    "b=5\n",
    "print(a-b)"
   ]
  },
  {
   "cell_type": "code",
   "execution_count": 6,
   "id": "583a88ca",
   "metadata": {},
   "outputs": [
    {
     "name": "stdout",
     "output_type": "stream",
     "text": [
      "500\n"
     ]
    }
   ],
   "source": [
    "a=100\n",
    "b=5\n",
    "print(a*b)"
   ]
  },
  {
   "cell_type": "code",
   "execution_count": 7,
   "id": "92a538d3",
   "metadata": {},
   "outputs": [
    {
     "name": "stdout",
     "output_type": "stream",
     "text": [
      "20.0\n"
     ]
    }
   ],
   "source": [
    "a=100\n",
    "b=5\n",
    "print(a/b)"
   ]
  },
  {
   "cell_type": "code",
   "execution_count": 8,
   "id": "5625f432",
   "metadata": {},
   "outputs": [
    {
     "name": "stdout",
     "output_type": "stream",
     "text": [
      "0\n"
     ]
    }
   ],
   "source": [
    "a=100\n",
    "b=5\n",
    "print(a%b)"
   ]
  },
  {
   "cell_type": "code",
   "execution_count": 9,
   "id": "1dcb69bf",
   "metadata": {},
   "outputs": [
    {
     "name": "stdout",
     "output_type": "stream",
     "text": [
      "20\n"
     ]
    }
   ],
   "source": [
    "a=100\n",
    "b=5\n",
    "print(a//b)"
   ]
  },
  {
   "cell_type": "code",
   "execution_count": 10,
   "id": "31b86a53",
   "metadata": {},
   "outputs": [
    {
     "name": "stdout",
     "output_type": "stream",
     "text": [
      "10000000000\n"
     ]
    }
   ],
   "source": [
    "a=100\n",
    "b=5\n",
    "print(a**b)"
   ]
  },
  {
   "cell_type": "code",
   "execution_count": 14,
   "id": "37930c16",
   "metadata": {},
   "outputs": [
    {
     "name": "stdout",
     "output_type": "stream",
     "text": [
      "0\n",
      "20\n"
     ]
    }
   ],
   "source": [
    "#if a>b\n",
    "a=100\n",
    "b=5\n",
    "print(a%b)#remainder\n",
    "print(a//b)#quotient"
   ]
  },
  {
   "cell_type": "code",
   "execution_count": 15,
   "id": "566ea60c",
   "metadata": {},
   "outputs": [
    {
     "name": "stdout",
     "output_type": "stream",
     "text": [
      "5\n",
      "0\n"
     ]
    }
   ],
   "source": [
    "#if a<b\n",
    "a=5\n",
    "b=100\n",
    "print(a%b)#a\n",
    "print(a//b)#0"
   ]
  },
  {
   "cell_type": "markdown",
   "id": "14a47bf2",
   "metadata": {},
   "source": [
    "#### runtime assignment"
   ]
  },
  {
   "cell_type": "code",
   "execution_count": 17,
   "id": "e3247c4f",
   "metadata": {
    "scrolled": true
   },
   "outputs": [
    {
     "name": "stdout",
     "output_type": "stream",
     "text": [
      "enter nameasd\n",
      "Name:  asd\n"
     ]
    }
   ],
   "source": [
    "a=input(\"enter name\")\n",
    "print(\"Name: \",a)"
   ]
  },
  {
   "cell_type": "code",
   "execution_count": 18,
   "id": "0db856de",
   "metadata": {},
   "outputs": [
    {
     "name": "stdout",
     "output_type": "stream",
     "text": [
      "enter price1\n",
      "enter quantity2\n",
      "Total:  2\n"
     ]
    }
   ],
   "source": [
    "a=int(input(\"enter price\"))\n",
    "b=int(input(\"enter quantity\"))\n",
    "print(\"Total: \",a*b)"
   ]
  },
  {
   "cell_type": "markdown",
   "id": "b5f4b95b",
   "metadata": {},
   "source": [
    "#### relational"
   ]
  },
  {
   "cell_type": "code",
   "execution_count": 19,
   "id": "f4c9522c",
   "metadata": {},
   "outputs": [],
   "source": [
    "x=10\n",
    "y=12"
   ]
  },
  {
   "cell_type": "code",
   "execution_count": 20,
   "id": "dc475d22",
   "metadata": {},
   "outputs": [
    {
     "data": {
      "text/plain": [
       "False"
      ]
     },
     "execution_count": 20,
     "metadata": {},
     "output_type": "execute_result"
    }
   ],
   "source": [
    "x==y"
   ]
  },
  {
   "cell_type": "code",
   "execution_count": 21,
   "id": "53c40bb0",
   "metadata": {},
   "outputs": [
    {
     "data": {
      "text/plain": [
       "True"
      ]
     },
     "execution_count": 21,
     "metadata": {},
     "output_type": "execute_result"
    }
   ],
   "source": [
    "x!=y"
   ]
  },
  {
   "cell_type": "code",
   "execution_count": 22,
   "id": "b8fc89db",
   "metadata": {},
   "outputs": [
    {
     "data": {
      "text/plain": [
       "True"
      ]
     },
     "execution_count": 22,
     "metadata": {},
     "output_type": "execute_result"
    }
   ],
   "source": [
    "x<y"
   ]
  },
  {
   "cell_type": "code",
   "execution_count": 23,
   "id": "0b2b56dd",
   "metadata": {},
   "outputs": [
    {
     "data": {
      "text/plain": [
       "False"
      ]
     },
     "execution_count": 23,
     "metadata": {},
     "output_type": "execute_result"
    }
   ],
   "source": [
    "x>y"
   ]
  },
  {
   "cell_type": "code",
   "execution_count": 24,
   "id": "82c0c1bc",
   "metadata": {},
   "outputs": [
    {
     "data": {
      "text/plain": [
       "True"
      ]
     },
     "execution_count": 24,
     "metadata": {},
     "output_type": "execute_result"
    }
   ],
   "source": [
    "x<=y"
   ]
  },
  {
   "cell_type": "code",
   "execution_count": 25,
   "id": "30f6d4b7",
   "metadata": {},
   "outputs": [
    {
     "data": {
      "text/plain": [
       "False"
      ]
     },
     "execution_count": 25,
     "metadata": {},
     "output_type": "execute_result"
    }
   ],
   "source": [
    "x>=y"
   ]
  },
  {
   "cell_type": "markdown",
   "id": "572aeff1",
   "metadata": {},
   "source": [
    "#### logical"
   ]
  },
  {
   "cell_type": "code",
   "execution_count": 26,
   "id": "d6fd1f9c",
   "metadata": {},
   "outputs": [],
   "source": [
    "a=10"
   ]
  },
  {
   "cell_type": "code",
   "execution_count": 27,
   "id": "f6a34a13",
   "metadata": {},
   "outputs": [
    {
     "data": {
      "text/plain": [
       "True"
      ]
     },
     "execution_count": 27,
     "metadata": {},
     "output_type": "execute_result"
    }
   ],
   "source": [
    "a<15 and a>5"
   ]
  },
  {
   "cell_type": "code",
   "execution_count": 28,
   "id": "31be23cf",
   "metadata": {},
   "outputs": [
    {
     "data": {
      "text/plain": [
       "False"
      ]
     },
     "execution_count": 28,
     "metadata": {},
     "output_type": "execute_result"
    }
   ],
   "source": [
    "a<15 and a<5"
   ]
  },
  {
   "cell_type": "code",
   "execution_count": 29,
   "id": "2b380ff3",
   "metadata": {},
   "outputs": [
    {
     "data": {
      "text/plain": [
       "False"
      ]
     },
     "execution_count": 29,
     "metadata": {},
     "output_type": "execute_result"
    }
   ],
   "source": [
    "a>15 and a>5"
   ]
  },
  {
   "cell_type": "code",
   "execution_count": 30,
   "id": "a18a3c5f",
   "metadata": {},
   "outputs": [
    {
     "data": {
      "text/plain": [
       "False"
      ]
     },
     "execution_count": 30,
     "metadata": {},
     "output_type": "execute_result"
    }
   ],
   "source": [
    "a>15 and a<5"
   ]
  },
  {
   "cell_type": "code",
   "execution_count": 31,
   "id": "56c8d878",
   "metadata": {},
   "outputs": [
    {
     "data": {
      "text/plain": [
       "False"
      ]
     },
     "execution_count": 31,
     "metadata": {},
     "output_type": "execute_result"
    }
   ],
   "source": [
    "a>15 or a<5"
   ]
  },
  {
   "cell_type": "code",
   "execution_count": 33,
   "id": "ffc1ed04",
   "metadata": {},
   "outputs": [
    {
     "data": {
      "text/plain": [
       "True"
      ]
     },
     "execution_count": 33,
     "metadata": {},
     "output_type": "execute_result"
    }
   ],
   "source": [
    "a>15 or a>5"
   ]
  },
  {
   "cell_type": "code",
   "execution_count": 34,
   "id": "2b7f4448",
   "metadata": {},
   "outputs": [
    {
     "data": {
      "text/plain": [
       "True"
      ]
     },
     "execution_count": 34,
     "metadata": {},
     "output_type": "execute_result"
    }
   ],
   "source": [
    "a<15 or a<5"
   ]
  },
  {
   "cell_type": "code",
   "execution_count": 35,
   "id": "aec98f30",
   "metadata": {},
   "outputs": [
    {
     "data": {
      "text/plain": [
       "True"
      ]
     },
     "execution_count": 35,
     "metadata": {},
     "output_type": "execute_result"
    }
   ],
   "source": [
    "a<15 or a>5"
   ]
  },
  {
   "cell_type": "code",
   "execution_count": 36,
   "id": "b37c90ac",
   "metadata": {},
   "outputs": [
    {
     "data": {
      "text/plain": [
       "False"
      ]
     },
     "execution_count": 36,
     "metadata": {},
     "output_type": "execute_result"
    }
   ],
   "source": [
    "not a<15"
   ]
  },
  {
   "cell_type": "code",
   "execution_count": 37,
   "id": "bab6e4fd",
   "metadata": {},
   "outputs": [
    {
     "data": {
      "text/plain": [
       "False"
      ]
     },
     "execution_count": 37,
     "metadata": {},
     "output_type": "execute_result"
    }
   ],
   "source": [
    "not a"
   ]
  },
  {
   "cell_type": "code",
   "execution_count": 38,
   "id": "784c60cc",
   "metadata": {},
   "outputs": [
    {
     "data": {
      "text/plain": [
       "False"
      ]
     },
     "execution_count": 38,
     "metadata": {},
     "output_type": "execute_result"
    }
   ],
   "source": [
    "not(a>15 or a>5)"
   ]
  },
  {
   "cell_type": "code",
   "execution_count": 39,
   "id": "78ee1260",
   "metadata": {},
   "outputs": [
    {
     "data": {
      "text/plain": [
       "False"
      ]
     },
     "execution_count": 39,
     "metadata": {},
     "output_type": "execute_result"
    }
   ],
   "source": [
    "\"a\" in \"1234567890\""
   ]
  },
  {
   "cell_type": "code",
   "execution_count": 40,
   "id": "4b2c1631",
   "metadata": {},
   "outputs": [
    {
     "data": {
      "text/plain": [
       "True"
      ]
     },
     "execution_count": 40,
     "metadata": {},
     "output_type": "execute_result"
    }
   ],
   "source": [
    "\"1\" in \"1234567890\""
   ]
  },
  {
   "cell_type": "code",
   "execution_count": 41,
   "id": "28741e87",
   "metadata": {},
   "outputs": [
    {
     "data": {
      "text/plain": [
       "False"
      ]
     },
     "execution_count": 41,
     "metadata": {},
     "output_type": "execute_result"
    }
   ],
   "source": [
    "\"1\" not in \"1234567890\""
   ]
  },
  {
   "cell_type": "code",
   "execution_count": 43,
   "id": "f0825337",
   "metadata": {},
   "outputs": [
    {
     "data": {
      "text/plain": [
       "True"
      ]
     },
     "execution_count": 43,
     "metadata": {},
     "output_type": "execute_result"
    }
   ],
   "source": [
    "\"a\" not in \"1234567890\""
   ]
  },
  {
   "cell_type": "markdown",
   "id": "c4be7062",
   "metadata": {},
   "source": [
    "#### assignment"
   ]
  },
  {
   "cell_type": "code",
   "execution_count": 53,
   "id": "ba49471d",
   "metadata": {},
   "outputs": [],
   "source": [
    "a=10\n",
    "b=5"
   ]
  },
  {
   "cell_type": "code",
   "execution_count": 54,
   "id": "214c2f5f",
   "metadata": {},
   "outputs": [
    {
     "data": {
      "text/plain": [
       "15"
      ]
     },
     "execution_count": 54,
     "metadata": {},
     "output_type": "execute_result"
    }
   ],
   "source": [
    "a+=5\n",
    "a"
   ]
  },
  {
   "cell_type": "code",
   "execution_count": 55,
   "id": "470dfb2f",
   "metadata": {},
   "outputs": [
    {
     "data": {
      "text/plain": [
       "10"
      ]
     },
     "execution_count": 55,
     "metadata": {},
     "output_type": "execute_result"
    }
   ],
   "source": [
    "a-=b\n",
    "a"
   ]
  },
  {
   "cell_type": "code",
   "execution_count": 56,
   "id": "f786e8a4",
   "metadata": {},
   "outputs": [
    {
     "data": {
      "text/plain": [
       "50"
      ]
     },
     "execution_count": 56,
     "metadata": {},
     "output_type": "execute_result"
    }
   ],
   "source": [
    "a*=b\n",
    "a"
   ]
  },
  {
   "cell_type": "code",
   "execution_count": 57,
   "id": "e2cae7b1",
   "metadata": {},
   "outputs": [
    {
     "data": {
      "text/plain": [
       "10"
      ]
     },
     "execution_count": 57,
     "metadata": {},
     "output_type": "execute_result"
    }
   ],
   "source": [
    "a//=b\n",
    "a"
   ]
  },
  {
   "cell_type": "code",
   "execution_count": 58,
   "id": "f71fbced",
   "metadata": {},
   "outputs": [
    {
     "data": {
      "text/plain": [
       "100000"
      ]
     },
     "execution_count": 58,
     "metadata": {},
     "output_type": "execute_result"
    }
   ],
   "source": [
    "a**=b\n",
    "a"
   ]
  },
  {
   "cell_type": "code",
   "execution_count": 59,
   "id": "91555842",
   "metadata": {},
   "outputs": [
    {
     "data": {
      "text/plain": [
       "0"
      ]
     },
     "execution_count": 59,
     "metadata": {},
     "output_type": "execute_result"
    }
   ],
   "source": [
    "a%=b\n",
    "a"
   ]
  },
  {
   "cell_type": "code",
   "execution_count": 60,
   "id": "f87033ee",
   "metadata": {},
   "outputs": [],
   "source": [
    "a=3\n",
    "b=8"
   ]
  },
  {
   "cell_type": "code",
   "execution_count": 61,
   "id": "fd859524",
   "metadata": {},
   "outputs": [
    {
     "data": {
      "text/plain": [
       "0"
      ]
     },
     "execution_count": 61,
     "metadata": {},
     "output_type": "execute_result"
    }
   ],
   "source": [
    "a&=b\n",
    "a"
   ]
  },
  {
   "cell_type": "code",
   "execution_count": 62,
   "id": "20487f2e",
   "metadata": {},
   "outputs": [
    {
     "data": {
      "text/plain": [
       "8"
      ]
     },
     "execution_count": 62,
     "metadata": {},
     "output_type": "execute_result"
    }
   ],
   "source": [
    "a|=b\n",
    "a"
   ]
  }
 ],
 "metadata": {
  "kernelspec": {
   "display_name": "Python 3",
   "language": "python",
   "name": "python3"
  },
  "language_info": {
   "codemirror_mode": {
    "name": "ipython",
    "version": 3
   },
   "file_extension": ".py",
   "mimetype": "text/x-python",
   "name": "python",
   "nbconvert_exporter": "python",
   "pygments_lexer": "ipython3",
   "version": "3.8.5"
  }
 },
 "nbformat": 4,
 "nbformat_minor": 5
}
