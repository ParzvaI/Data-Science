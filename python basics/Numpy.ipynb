{
 "cells": [
  {
   "cell_type": "code",
   "execution_count": 1,
   "id": "7123657a",
   "metadata": {},
   "outputs": [],
   "source": [
    "import numpy as np"
   ]
  },
  {
   "cell_type": "code",
   "execution_count": 4,
   "id": "ea509364",
   "metadata": {},
   "outputs": [
    {
     "name": "stdout",
     "output_type": "stream",
     "text": [
      "[1 2 3 4 5 6 7]\n",
      "<class 'numpy.ndarray'>\n"
     ]
    }
   ],
   "source": [
    "# Creating a numpy array\n",
    "l=[1,2,3,4,5,6,7]\n",
    "narray=np.array(l)\n",
    "print(narray)\n",
    "print(type(narray))"
   ]
  },
  {
   "cell_type": "code",
   "execution_count": 5,
   "id": "22d21178",
   "metadata": {},
   "outputs": [
    {
     "data": {
      "text/plain": [
       "array([0.69456011, 0.7631667 , 0.28323286, 0.84267563, 0.02471747,\n",
       "       0.47891383, 0.95092682, 0.25330585, 0.49363253, 0.11131043])"
      ]
     },
     "execution_count": 5,
     "metadata": {},
     "output_type": "execute_result"
    }
   ],
   "source": [
    "# generating n number of random elemented list\n",
    "np.random.random(10)"
   ]
  },
  {
   "cell_type": "code",
   "execution_count": 8,
   "id": "4506e8b3",
   "metadata": {},
   "outputs": [
    {
     "data": {
      "text/plain": [
       "array([[0.69349592, 0.34480436]])"
      ]
     },
     "execution_count": 8,
     "metadata": {},
     "output_type": "execute_result"
    }
   ],
   "source": [
    "# creating Nd array with values from 0 to 1\n",
    "np.random.rand(1,2)"
   ]
  },
  {
   "cell_type": "code",
   "execution_count": 9,
   "id": "94ba77be",
   "metadata": {},
   "outputs": [
    {
     "data": {
      "text/plain": [
       "array([[ 1.15885273, -1.18985087]])"
      ]
     },
     "execution_count": 9,
     "metadata": {},
     "output_type": "execute_result"
    }
   ],
   "source": [
    "# creating Nd array with positive and negative values\n",
    "np.random.randn(1,2)"
   ]
  },
  {
   "cell_type": "code",
   "execution_count": 10,
   "id": "feee4c54",
   "metadata": {},
   "outputs": [
    {
     "data": {
      "text/plain": [
       "5"
      ]
     },
     "execution_count": 10,
     "metadata": {},
     "output_type": "execute_result"
    }
   ],
   "source": [
    "# creating a random integer within a specific range\n",
    "np.random.randint(1,10)"
   ]
  },
  {
   "cell_type": "code",
   "execution_count": 12,
   "id": "13190f50",
   "metadata": {},
   "outputs": [
    {
     "name": "stdout",
     "output_type": "stream",
     "text": [
      "[157  81 422 743 940 853 498 477 584 662]\n"
     ]
    }
   ],
   "source": [
    "# creating n number of random integers within a specific range\n",
    "print(np.random.randint(1,1000,10))"
   ]
  },
  {
   "cell_type": "code",
   "execution_count": 14,
   "id": "07d97dd2",
   "metadata": {},
   "outputs": [
    {
     "data": {
      "text/plain": [
       "array([ 1, 11, 21, 31, 41, 51, 61, 71, 81, 91])"
      ]
     },
     "execution_count": 14,
     "metadata": {},
     "output_type": "execute_result"
    }
   ],
   "source": [
    "# arange() to arrange the elements with equal distance\n",
    "np.arange(1,100,10) #note the difference is always 10"
   ]
  },
  {
   "cell_type": "code",
   "execution_count": null,
   "id": "5ea1278a",
   "metadata": {},
   "outputs": [],
   "source": []
  }
 ],
 "metadata": {
  "kernelspec": {
   "display_name": "Python 3",
   "language": "python",
   "name": "python3"
  },
  "language_info": {
   "codemirror_mode": {
    "name": "ipython",
    "version": 3
   },
   "file_extension": ".py",
   "mimetype": "text/x-python",
   "name": "python",
   "nbconvert_exporter": "python",
   "pygments_lexer": "ipython3",
   "version": "3.8.5"
  }
 },
 "nbformat": 4,
 "nbformat_minor": 5
}
