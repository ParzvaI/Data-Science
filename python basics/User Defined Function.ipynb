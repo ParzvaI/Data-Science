{
 "cells": [
  {
   "cell_type": "markdown",
   "id": "7671c6ef",
   "metadata": {},
   "source": [
    "#  Functions that we define ourselves to do certain specific task are referred as user-defined functions. "
   ]
  },
  {
   "cell_type": "code",
   "execution_count": 2,
   "id": "93d92428",
   "metadata": {},
   "outputs": [
    {
     "name": "stdout",
     "output_type": "stream",
     "text": [
      "Hello\n"
     ]
    }
   ],
   "source": [
    "# wtihout return without parameters\n",
    "def greet():\n",
    "    print(\"Hello\")\n",
    "greet()"
   ]
  },
  {
   "cell_type": "code",
   "execution_count": 4,
   "id": "41534ebf",
   "metadata": {},
   "outputs": [
    {
     "name": "stdout",
     "output_type": "stream",
     "text": [
      "Hello\n"
     ]
    }
   ],
   "source": [
    "# wtih return without parameters\n",
    "def greet():\n",
    "    return \"Hello\"\n",
    "print(greet())"
   ]
  },
  {
   "cell_type": "code",
   "execution_count": 5,
   "id": "4abccb8a",
   "metadata": {},
   "outputs": [
    {
     "name": "stdout",
     "output_type": "stream",
     "text": [
      "Hello\n"
     ]
    }
   ],
   "source": [
    "# wtihout return with parameters\n",
    "def greet(s):\n",
    "    print(s)\n",
    "greet(\"Hello\")"
   ]
  },
  {
   "cell_type": "code",
   "execution_count": 6,
   "id": "1a9ebcf5",
   "metadata": {},
   "outputs": [
    {
     "name": "stdout",
     "output_type": "stream",
     "text": [
      "Hello\n"
     ]
    }
   ],
   "source": [
    "# wtih return with parameters\n",
    "def greet(s):\n",
    "    return s\n",
    "print(greet(\"Hello\"))"
   ]
  },
  {
   "cell_type": "code",
   "execution_count": 7,
   "id": "8469f6be",
   "metadata": {},
   "outputs": [
    {
     "ename": "TypeError",
     "evalue": "greet() missing 1 required positional argument: 's'",
     "output_type": "error",
     "traceback": [
      "\u001b[1;31m---------------------------------------------------------------------------\u001b[0m",
      "\u001b[1;31mTypeError\u001b[0m                                 Traceback (most recent call last)",
      "\u001b[1;32m<ipython-input-7-3031df4804bc>\u001b[0m in \u001b[0;36m<module>\u001b[1;34m\u001b[0m\n\u001b[0;32m      2\u001b[0m \u001b[1;32mdef\u001b[0m \u001b[0mgreet\u001b[0m\u001b[1;33m(\u001b[0m\u001b[0ms\u001b[0m\u001b[1;33m)\u001b[0m\u001b[1;33m:\u001b[0m\u001b[1;33m\u001b[0m\u001b[1;33m\u001b[0m\u001b[0m\n\u001b[0;32m      3\u001b[0m     \u001b[1;32mreturn\u001b[0m \u001b[0ms\u001b[0m\u001b[1;33m\u001b[0m\u001b[1;33m\u001b[0m\u001b[0m\n\u001b[1;32m----> 4\u001b[1;33m \u001b[0mprint\u001b[0m\u001b[1;33m(\u001b[0m\u001b[0mgreet\u001b[0m\u001b[1;33m(\u001b[0m\u001b[1;33m)\u001b[0m\u001b[1;33m)\u001b[0m\u001b[1;33m\u001b[0m\u001b[1;33m\u001b[0m\u001b[0m\n\u001b[0m",
      "\u001b[1;31mTypeError\u001b[0m: greet() missing 1 required positional argument: 's'"
     ]
    }
   ],
   "source": [
    "# error is thrown when no parameter is given while parameter was expected\n",
    "def greet(s):\n",
    "    return s\n",
    "print(greet())"
   ]
  },
  {
   "cell_type": "code",
   "execution_count": 9,
   "id": "99df108a",
   "metadata": {},
   "outputs": [
    {
     "name": "stdout",
     "output_type": "stream",
     "text": [
      "Hello\n"
     ]
    }
   ],
   "source": [
    "# default parameter when no parameter is given\n",
    "def greet(s=\"Hello\"):\n",
    "    return s\n",
    "print(greet())"
   ]
  },
  {
   "cell_type": "code",
   "execution_count": 10,
   "id": "6c2eea64",
   "metadata": {},
   "outputs": [
    {
     "name": "stdout",
     "output_type": "stream",
     "text": [
      "New Word\n"
     ]
    }
   ],
   "source": [
    "# default parameter when no parameter is given\n",
    "def greet(s=\"Hello\"):\n",
    "    return s\n",
    "print(greet(\"New Word\"))"
   ]
  },
  {
   "cell_type": "code",
   "execution_count": 12,
   "id": "431ac5ca",
   "metadata": {},
   "outputs": [
    {
     "name": "stdout",
     "output_type": "stream",
     "text": [
      "madam\n",
      "True\n"
     ]
    }
   ],
   "source": [
    "#function to check whether its palindrome or not\n",
    "def checkPalindrome(s):\n",
    "    if(s==s[::-1]):\n",
    "        return True\n",
    "    return False\n",
    "word = input().rstrip()\n",
    "print(checkPalindrome(word))"
   ]
  },
  {
   "cell_type": "code",
   "execution_count": null,
   "id": "90d34383",
   "metadata": {},
   "outputs": [],
   "source": []
  }
 ],
 "metadata": {
  "kernelspec": {
   "display_name": "Python 3",
   "language": "python",
   "name": "python3"
  },
  "language_info": {
   "codemirror_mode": {
    "name": "ipython",
    "version": 3
   },
   "file_extension": ".py",
   "mimetype": "text/x-python",
   "name": "python",
   "nbconvert_exporter": "python",
   "pygments_lexer": "ipython3",
   "version": "3.8.5"
  }
 },
 "nbformat": 4,
 "nbformat_minor": 5
}
